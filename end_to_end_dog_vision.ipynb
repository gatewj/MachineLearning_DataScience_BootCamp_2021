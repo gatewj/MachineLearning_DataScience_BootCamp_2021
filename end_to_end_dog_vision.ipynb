{
  "nbformat": 4,
  "nbformat_minor": 0,
  "metadata": {
    "colab": {
      "name": "end-to-end-dog-vision.ipynb",
      "provenance": [],
      "collapsed_sections": [],
      "mount_file_id": "1Mw8Yo0SYodqnzK3jeqJzvoNZlue24bN1",
      "authorship_tag": "ABX9TyNLCRWOzovw1y7cSYWRVEdg",
      "include_colab_link": true
    },
    "kernelspec": {
      "name": "python3",
      "display_name": "Python 3"
    },
    "language_info": {
      "name": "python"
    },
    "accelerator": "GPU"
  },
  "cells": [
    {
      "cell_type": "markdown",
      "metadata": {
        "id": "view-in-github",
        "colab_type": "text"
      },
      "source": [
        "<a href=\"https://colab.research.google.com/github/gatewj/MachineLearning_DataScience_BootCamp_2021Udemy/blob/main/end_to_end_dog_vision.ipynb\" target=\"_parent\"><img src=\"https://colab.research.google.com/assets/colab-badge.svg\" alt=\"Open In Colab\"/></a>"
      ]
    },
    {
      "cell_type": "markdown",
      "source": [
        "# Using Transfer Learning and TensorFlow 2.0 to Classify Different Dog Breeds\n",
        "\n",
        "Who's that doggy in the window?\n",
        "\n",
        "Dogs are incredible. But have you ever been sitting at a cafe, seen a dog and not known what breed it is? I have. And then someone says, \"it's an English Terrier\" and you think, how did they know that?\n",
        "\n",
        "In this project we're going to be using machine learning to help us identify different breeds of dogs.\n",
        "\n",
        "To do this, we'll be using data from the [Kaggle dog breed identification competition](https://www.kaggle.com/c/dog-breed-identification/overview). It consists of a collection of 10,000+ labelled images of 120 different dog breeds.\n",
        "\n",
        "This kind of problem is called multi-class image classification. It's multi-class because we're trying to classify mutliple different breeds of dog. If we were only trying to classify dogs versus cats, it would be called binary classification (one thing versus another).\n",
        "\n",
        "Multi-class image classification is an important problem because it's the same kind of technology Tesla uses in their self-driving cars or Airbnb uses in atuomatically adding information to their listings.\n",
        "\n",
        "Since the most important step in a deep learng problem is getting the data ready (turning it into numbers), that's what we're going to start with.\n",
        "\n",
        "We're going to go through the following TensorFlow/Deep Learning workflow:\n",
        "\n",
        "1.    Get data ready (download from Kaggle, store, import).\n",
        "2.    Prepare the data (preprocessing, the 3 sets, X & y).\n",
        "3.    Choose and fit/train a model ([TensorFlow Hub](https://www.tensorflow.org/hub), tf.keras.applications, [TensorBoard](https://www.tensorflow.org/tensorboard), [EarlyStopping](https://www.tensorflow.org/api_docs/python/tf/keras/callbacks/EarlyStopping).\n",
        "4.    Evaluating a model (making predictions, comparing them with the ground truth labels).\n",
        "5.    Improve the model through experimentation (start with 1000 images, make sure it works, increase the number of images).\n",
        "6.    Save, sharing and reloading your model (once you're happy with the results).\n",
        "\n",
        "For preprocessing our data, we're going to use TensorFlow 2.x. The whole premise here is to get our data into Tensors (arrays of numbers which can be run on GPUs) and then allow a machine learning model to find patterns between them.\n",
        "\n",
        "For our machine learning model, we're going to be using a pretrained deep learning model from TensorFlow Hub.\n",
        "\n",
        "The process of using a pretrained model and adapting it to your own problem is called transfer learning. We do this because rather than train our own model from scratch (could be timely and expensive), we leverage the patterns of another model which has been trained to classify images.\n",
        "\n",
        "### Getting our workspace ready\n",
        "\n",
        "Before we get started, since we'll be using TensorFlow 2.x and TensorFlow Hub (TensorFlow Hub), let's import them."
      ],
      "metadata": {
        "id": "N1PSaSSsN6R9"
      }
    },
    {
      "cell_type": "code",
      "execution_count": 1,
      "metadata": {
        "id": "9-81qvtPOkPQ"
      },
      "outputs": [],
      "source": [
        "#import pandas as pd\n",
        "#import numpy as np"
      ]
    },
    {
      "cell_type": "code",
      "source": [
        ""
      ],
      "metadata": {
        "id": "CtU9cN4XVoHD"
      },
      "execution_count": 1,
      "outputs": []
    },
    {
      "cell_type": "code",
      "source": [
        "# Unzip the files folder (Only once is needed) train.csv, test.csv\n",
        "\n",
        "#!unzip \"/content/drive/MyDrive/Colab Notebooks/Complete Machine Learning and Data Science BootCamp 2022/Dog Vision/test.zip\" -d \"/content/drive/MyDrive/Colab Notebooks/Complete Machine Learning and Data Science BootCamp 2022/Dog Vision/test\""
      ],
      "metadata": {
        "id": "WtO_OOSDWoa5"
      },
      "execution_count": 2,
      "outputs": []
    },
    {
      "cell_type": "code",
      "source": [
        "# Needed to remove the files from the main drive originally and put the files into train and test sets\n",
        "#  This code snippit allowed me to identify the files (which were jpg) and delete the files.\n",
        "\n",
        "#import os\n",
        "#import glob\n",
        "# my all files starts with \"frame\" and ends with \".jpg\"\n",
        "#fileList = glob.glob('/content/drive/MyDrive/Colab Notebooks/Complete Machine Learning and Data Science BootCamp 2022/Dog Vision/*.jpg')\n",
        "#print(\"Number of files: \",len(fileList))\n",
        "\n",
        "#for filePath in fileList:\n",
        "#  try:\n",
        "#    os.remove(filePath)\n",
        "#  except:\n",
        "#    print(\"Error while deleting file : \", filePath)"
      ],
      "metadata": {
        "id": "jOhra8jnZ1W2"
      },
      "execution_count": 3,
      "outputs": []
    },
    {
      "cell_type": "code",
      "source": [
        "import tensorflow as tf\n",
        "import tensorflow_hub as hub\n",
        "\n",
        "print(\"TF version:\", tf.__version__)\n",
        "print(\"Hub version:\", hub.__version__)\n",
        "\n",
        "# Check for GPU\n",
        "print(\"GPU\", \"available (YESS!!!!)\" if tf.config.list_physical_devices(\"GPU\") else \"not available :(\")"
      ],
      "metadata": {
        "colab": {
          "base_uri": "https://localhost:8080/"
        },
        "id": "udYtAmP6Z5jO",
        "outputId": "32ed74e8-f275-4187-fd13-0fa98a7cc08e"
      },
      "execution_count": 4,
      "outputs": [
        {
          "output_type": "stream",
          "name": "stdout",
          "text": [
            "TF version: 2.8.2\n",
            "Hub version: 0.12.0\n",
            "GPU available (YESS!!!!)\n"
          ]
        }
      ]
    },
    {
      "cell_type": "code",
      "source": [
        "# Running this cell will provide you with a token to link your drive to this notebook\n",
        "from google.colab import drive\n",
        "drive.mount('/content/drive')"
      ],
      "metadata": {
        "id": "bVdLkufQaBLc"
      },
      "execution_count": null,
      "outputs": []
    },
    {
      "cell_type": "markdown",
      "source": [
        "## Accessing the data\n",
        "\n",
        "Now the data files we're working with are available on our Google Drive, we can start to check it out.\n",
        "\n",
        "Let's start with labels.csv which contains all of the image ID's and their assosciated dog breed (our data and labels)."
      ],
      "metadata": {
        "id": "ME9SIsW5kmbA"
      }
    },
    {
      "cell_type": "code",
      "source": [
        "# Standard imports\n",
        "import numpy as np\n",
        "import pandas as pd\n",
        "import matplotlib.pyplot as plt\n",
        "\n",
        "%matplotlib inline"
      ],
      "metadata": {
        "id": "r24WpWsfk4gi"
      },
      "execution_count": null,
      "outputs": []
    },
    {
      "cell_type": "code",
      "source": [
        "# Checkout the labels of our data\n",
        "# import pandas as pd\n",
        "labels_csv = pd.read_csv(\"drive/My Drive/Colab Notebooks/Complete Machine Learning and Data Science BootCamp 2022/Dog Vision/labels.csv\")\n",
        "\n",
        "labels_csv.describe()"
      ],
      "metadata": {
        "id": "rq5Nzn6paMok"
      },
      "execution_count": null,
      "outputs": []
    },
    {
      "cell_type": "code",
      "source": [
        "labels_csv.head()"
      ],
      "metadata": {
        "id": "a0nbTM87aR-0"
      },
      "execution_count": null,
      "outputs": []
    },
    {
      "cell_type": "markdown",
      "source": [
        "Accessing the data\n",
        "\n",
        "Now the data files we're working with are available on our Google Drive, we can start to check it out.\n",
        "\n",
        "Let's start with labels.csv which contains all of the image ID's and their assosciated dog breed (our data and labels)."
      ],
      "metadata": {
        "id": "Lv3x_xg2kkNR"
      }
    },
    {
      "cell_type": "code",
      "source": [
        "# How many images are there of each breed?\n",
        "labels_csv[\"breed\"].value_counts().plot.bar(figsize=(20,10));  \n",
        "    "
      ],
      "metadata": {
        "id": "9odu0Yydau_M"
      },
      "execution_count": null,
      "outputs": []
    },
    {
      "cell_type": "markdown",
      "source": [
        "\n",
        "\n",
        "Okay sweet. If we were to roughly draw a line across the middle of the graph, we'd see there's about 60+ images for each dog breed.\n",
        "\n",
        "This is a good amount as for some of their vision products Google recommends a minimum of 10 images per class to get started. And as you might imagine, the more images per class available, the more chance a model has to figure out patterns between them.\n",
        "\n",
        "Let's check out one of the images.\n",
        "\n",
        "Note: Loading an image file for the first time may take a while as it gets loaded into the runtime memory. If you see a Google Drive timeout error, check out the Colab FAQ for more.\n"
      ],
      "metadata": {
        "id": "iUVRZdugl9e0"
      }
    },
    {
      "cell_type": "code",
      "source": [
        "from IPython.display import display, Image"
      ],
      "metadata": {
        "id": "hFSKJqNobzlU"
      },
      "execution_count": null,
      "outputs": []
    },
    {
      "cell_type": "markdown",
      "source": [
        "\n",
        "## Getting images and their labels\n",
        "\n",
        "Since we've got the image ID's and their labels in a DataFrame (labels_csv), we'll use it to create:\n",
        "\n",
        "* A list a filepaths to training images\n",
        "* An array of all labels\n",
        "* An array of all unique labels\n",
        "\n",
        "We'll only create a list of filepaths to images rather than importing them all to begin with. This is because working with filepaths (strings) is much efficient than working with images.\n"
      ],
      "metadata": {
        "id": "qLkV4GQBmG-W"
      }
    },
    {
      "cell_type": "code",
      "source": [
        "# Create pathnames from image ID's\n",
        "filenames = [\"drive/My Drive/Colab Notebooks/Complete Machine Learning and Data Science BootCamp 2022/Dog Vision/train/\" + fname + \".jpg\" for fname in labels_csv[\"id\"]]\n",
        "\n",
        "# Check the first 10 filenames\n",
        "filenames[:10]"
      ],
      "metadata": {
        "id": "4uelRCIZb_A6"
      },
      "execution_count": null,
      "outputs": []
    },
    {
      "cell_type": "code",
      "source": [
        "# Check whether number of filenames matches number of actual image files\n",
        "import os\n",
        "if len(os.listdir(\"drive/My Drive/Colab Notebooks/Complete Machine Learning and Data Science BootCamp 2022/Dog Vision/train/\")) == len(filenames):\n",
        "  print(\"Filenames match actual amount of files!\")\n",
        "else:\n",
        "  print(\"Filenames do not match actual amount of files, check the target directory.\")"
      ],
      "metadata": {
        "id": "xF5XNVOKd97R"
      },
      "execution_count": null,
      "outputs": []
    },
    {
      "cell_type": "markdown",
      "source": [
        "\n",
        "\n",
        "If everything worked, we should see a match up.\n",
        "\n",
        "Let's do one more check. Visualizing directly from a filepath.\n"
      ],
      "metadata": {
        "id": "qlMxZfgBnWv2"
      }
    },
    {
      "cell_type": "code",
      "source": [
        "# Check an image directly from a filepath\n",
        "from IPython.display import display, Image\n",
        "Image(filenames[9000])"
      ],
      "metadata": {
        "id": "S5pm-giLnKV2"
      },
      "execution_count": null,
      "outputs": []
    },
    {
      "cell_type": "markdown",
      "source": [
        "\n",
        "\n",
        "Woah! What a beast!\n",
        "\n",
        "Now we've got our image filepaths together, let's get the labels.\n",
        "\n",
        "We'll take them from labels_csv and turn them into a NumPy array.\n"
      ],
      "metadata": {
        "id": "4vaa05J5pF89"
      }
    },
    {
      "cell_type": "code",
      "source": [
        "labels = labels_csv[\"breed\"].to_numpy() # convert labels column to NumPy array\n",
        "labels[:10]"
      ],
      "metadata": {
        "id": "hxKLSAUNnbzs"
      },
      "execution_count": null,
      "outputs": []
    },
    {
      "cell_type": "markdown",
      "source": [
        "Wonderful, now lets do the same thing as before, compare the amount of labels to number of filenames."
      ],
      "metadata": {
        "id": "IIQVoV6mpRZq"
      }
    },
    {
      "cell_type": "code",
      "source": [
        "# See if number of labels matches the number of filenames\n",
        "if len(labels) == len(filenames):\n",
        "  print(\"Number of labels matches number of filenames!\")\n",
        "else:\n",
        "  print(\"Number of labels does not match number of filenames, check data directories.\")"
      ],
      "metadata": {
        "id": "2UupulRoocOV"
      },
      "execution_count": null,
      "outputs": []
    },
    {
      "cell_type": "markdown",
      "source": [
        "\n",
        "\n",
        "If it all worked, we should have the same amount of images and labels.\n",
        "\n",
        "Finally, since a machine learning model can't take strings as input (what labels currently is), we'll have to convert our labels to numbers.\n",
        "\n",
        "To begin with, we'll find all of the unique dog breed names.\n",
        "\n",
        "Then we'll go through the list of labels and compare them to unique breeds and create a list of booleans indicating which one is the real label (True) and which ones aren't (False).\n"
      ],
      "metadata": {
        "id": "zrg5uek9pmYi"
      }
    },
    {
      "cell_type": "code",
      "source": [
        "# Find the unique label values\n",
        "unique_breeds = np.unique(labels)\n",
        "len(unique_breeds)"
      ],
      "metadata": {
        "id": "B1fjBjF9pboa"
      },
      "execution_count": null,
      "outputs": []
    },
    {
      "cell_type": "markdown",
      "source": [
        "\n",
        "\n",
        "The length of unique_breeds should be 120, meaning we're working with images of 120 different breeds of dogs.\n",
        "\n",
        "Now use unique_breeds to help turn our labels array into an array of booleans.\n"
      ],
      "metadata": {
        "id": "yfmxgE3FrB9B"
      }
    },
    {
      "cell_type": "code",
      "source": [
        "# Example: Turn one label into an array of booleans\n",
        "print(labels[0])\n",
        "labels[0] == unique_breeds # use comparision operator to create boolean array"
      ],
      "metadata": {
        "id": "dyWnoO8AplDq"
      },
      "execution_count": null,
      "outputs": []
    },
    {
      "cell_type": "markdown",
      "source": [
        "That's justs for one example, let's do the whole thing."
      ],
      "metadata": {
        "id": "WR2UQZ7VsC-4"
      }
    },
    {
      "cell_type": "code",
      "source": [
        "# turn every label into a boolean array\n",
        "boolean_labels = [label == np.array(unique_breeds) for label in labels]\n",
        "boolean_labels[:3]"
      ],
      "metadata": {
        "id": "4NF-3k0brfKg"
      },
      "execution_count": null,
      "outputs": []
    },
    {
      "cell_type": "markdown",
      "source": [
        "\n",
        "\n",
        "Why do it like this?\n",
        "\n",
        "Remember, an important concept in machine learning is converting your data to numbers before passing it to a machine learning model.\n",
        "\n",
        "In this case, we've transformed a single dog breed name such as boston_bull into a one-hot array.\n",
        "\n",
        "Let's see an example.\n"
      ],
      "metadata": {
        "id": "S-HbGogws2Cm"
      }
    },
    {
      "cell_type": "code",
      "source": [
        "# Example: Turning a boolean array into integers\n",
        "print(labels[0])  # original label\n",
        "print(np.where(unique_breeds == labels[0])[0][0]) # index where label occurs\n",
        "print(boolean_labels[0].argmax()) # index where label occurs in boolean array\n",
        "print(boolean_labels[0].astype(int)) # there will be a 1 where the sample label occurs"
      ],
      "metadata": {
        "id": "gLh1_JL6sqqm"
      },
      "execution_count": null,
      "outputs": []
    },
    {
      "cell_type": "markdown",
      "source": [
        "\n",
        "## Creating our own validation set\n",
        "\n",
        "Since the dataset from Kaggle doesn't come with a validation set (a split of the data we can test our model on before making final predictions on the test set), let's make one.\n",
        "\n",
        "We could use Scikit-Learn's train_test_split function or we could simply make manual splits of the data.\n",
        "\n",
        "For accessibility later, let's save our filenames variable to X (data) and our labels to y.\n"
      ],
      "metadata": {
        "id": "Fl0Ssp9fuExl"
      }
    },
    {
      "cell_type": "code",
      "source": [
        "# Setup X & y variables\n",
        "X = filenames\n",
        "y = boolean_labels"
      ],
      "metadata": {
        "id": "ZeoFo5tLs6_l"
      },
      "execution_count": null,
      "outputs": []
    },
    {
      "cell_type": "markdown",
      "source": [
        "\n",
        "\n",
        "Since we're working with 10,000+ images, it's a good idea to work with a portion of them to make sure things are working before training on them all.\n",
        "\n",
        "This is because computing with 10,000+ images could take a fairly long time. And our goal when working through machine learning projects is to reduce the time between experiments.\n",
        "\n",
        "Let's start experimenting with 1000 and increase it as we need.\n"
      ],
      "metadata": {
        "id": "VkOcBMuCvnSL"
      }
    },
    {
      "cell_type": "code",
      "source": [
        "# Set number of images to use for experimenting\n",
        "NUM_IMAGES = 1000 #@param {type:\"slider\", min:1000, max:10000, step:1000}\n",
        "NUM_IMAGES"
      ],
      "metadata": {
        "id": "srXDX869uz0c"
      },
      "execution_count": null,
      "outputs": []
    },
    {
      "cell_type": "markdown",
      "source": [
        "Now let's split our data into training and validation sets. We'll use and 80/20 split (80% training data, 20% validation data)."
      ],
      "metadata": {
        "id": "3F0Z-QuOv2XD"
      }
    },
    {
      "cell_type": "code",
      "source": [
        "# Import train_test_split from scikit-learn\n",
        "from sklearn.model_selection import train_test_split\n",
        "\n",
        "# Split them into training and validation using NUM_IMAGES\n",
        "X_train, X_val, y_train, y_val = train_test_split(X[:NUM_IMAGES],\n",
        "                                                  y[:NUM_IMAGES], \n",
        "                                                  test_size=0.2,\n",
        "                                                  random_state=42)\n",
        "\n",
        "len(X_train), len(y_train), len(X_val), len(y_val)"
      ],
      "metadata": {
        "id": "GwNW2Q5evvy6"
      },
      "execution_count": null,
      "outputs": []
    },
    {
      "cell_type": "code",
      "source": [
        "# Check out the training data (image file paths and labels)\n",
        "X_train[:5], y_train[:2]"
      ],
      "metadata": {
        "id": "LkDFdncsyShA"
      },
      "execution_count": null,
      "outputs": []
    },
    {
      "cell_type": "markdown",
      "source": [
        "\n",
        "Preprocessing images (turning images into Tensors)\n",
        "\n",
        "Our labels are in numeric format but our images are still just file paths.\n",
        "\n",
        "Since we're using TensorFlow, our data has to be in the form of Tensors.\n",
        "\n",
        "A Tensor is a way to represent information in numbers. If you're familar with NumPy arrays (you should be), a Tensor can be thought of as a combination of NumPy arrays, except with the special ability to be used on a GPU.\n",
        "\n",
        "Because of how TensorFlow stores information (in Tensors), it allows machine learning and deep learning models to be run on GPUs (generally faster at numerical computing).\n",
        "\n",
        "To preprocess our images into Tensors we're going to write a function which does a few things:\n",
        "\n",
        "1. Takes an image filename as input.\n",
        "2. Uses TensorFlow to read the file and save it to a variable, image.\n",
        "3. Turn our image (a jpeg file) into Tensors.\n",
        "4. Resize the image to be of shape (224, 224).\n",
        "5. Return the modified image.\n",
        "\n",
        "A good place to read about this type of function is the TensorFlow documentation on loading images.\n",
        "\n",
        "You might be wondering why (224, 224), which is (height, width). It's because this is the size of input our model (we'll see this soon) takes, an image which is (224, 224, 3).\n",
        "\n",
        "What? Where's the 3 from? We're getting ahead of ourselves but that's the number of colour channels per pixel, red, green and blue.\n",
        "\n",
        "Let's make this a little more concrete.\n"
      ],
      "metadata": {
        "id": "wjAHOyNc0dLH"
      }
    },
    {
      "cell_type": "code",
      "source": [
        "# Convert image to NumPy array\n",
        "from matplotlib.pyplot import imread\n",
        "image = imread(filenames[42]) # read in an image\n",
        "image.shape"
      ],
      "metadata": {
        "id": "5VNrD9wxz1Sm"
      },
      "execution_count": null,
      "outputs": []
    },
    {
      "cell_type": "markdown",
      "source": [
        "\n",
        "\n",
        "Notice the shape of image. It's (257, 350, 3). This is height, width, colour channel value.\n",
        "\n",
        "And you can easily convert it to a Tensor using tf.constant().\n"
      ],
      "metadata": {
        "id": "_1VTiFPu1drc"
      }
    },
    {
      "cell_type": "code",
      "source": [
        "tf.constant(image)[:2]"
      ],
      "metadata": {
        "id": "wjqtTddZ03DM"
      },
      "execution_count": null,
      "outputs": []
    },
    {
      "cell_type": "markdown",
      "source": [
        "\n",
        "Ok, now let's build that function we were talking about."
      ],
      "metadata": {
        "id": "6OEzYIWBWqgV"
      }
    },
    {
      "cell_type": "code",
      "source": [
        "# Define image size\n",
        "IMG_SIZE = 224\n",
        "\n",
        "def process_image(image_path):\n",
        "  \"\"\"\n",
        "  Takes an image file path and turns it into a Tensor.\n",
        "  \"\"\"\n",
        "  # Read in image file\n",
        "  image = tf.io.read_file(image_path)\n",
        "  # Turn the jpeg image into numerical Tensor with 3 colour channels (Red, Green, Blue)\n",
        "  image = tf.image.decode_jpeg(image, channels=3)\n",
        "  # Convert the colour channel values from 0-225 values to 0-1 values\n",
        "  image = tf.image.convert_image_dtype(image, tf.float32)\n",
        "  # Resize the image to our desired size (224, 244)\n",
        "  image = tf.image.resize(image, size=[IMG_SIZE, IMG_SIZE])\n",
        "  return image"
      ],
      "metadata": {
        "id": "asO3pE771iOM"
      },
      "execution_count": null,
      "outputs": []
    },
    {
      "cell_type": "markdown",
      "source": [
        "\n",
        "## Creating data batches\n",
        "\n",
        "Wonderful. Now we've got a function to convert our images into Tensors, we'll now build one to turn our data into batches (more specifically, a TensorFlow BatchDataset).\n",
        "\n",
        "What's a batch?\n",
        "\n",
        "A batch (also called mini-batch) is a small portion of your data, say 32 (32 is generally the default batch size) images and their labels. In deep learning, instead of finding patterns in an entire dataset at the same time, you often find them one batch at a time.\n",
        "\n",
        "Let's say you're dealing with 10,000+ images (which we are). Together, these files may take up more memory than your GPU has. Trying to compute on them all would result in an error.\n",
        "\n",
        "Instead, it's more efficient to create smaller batches of your data and compute on one batch at a time.\n",
        "\n",
        "TensorFlow is very efficient when your data is in batches of (image, label) Tensors. So we'll build a function to do create those first. We'll take advantage of of process_image function at the same time.\n"
      ],
      "metadata": {
        "id": "3MSy5Q_UXAqi"
      }
    },
    {
      "cell_type": "code",
      "source": [
        "# Create a simple function to return a tuple (image, label)\n",
        "def get_image_label(image_path, label):\n",
        "  \"\"\"\n",
        "  Takes an image file path name and the associated label,\n",
        "  processes the image and returns a tuple of (image, label).\n",
        "  \"\"\"\n",
        "  image = process_image(image_path)\n",
        "  return image, label"
      ],
      "metadata": {
        "id": "U9t_JeQGW4WN"
      },
      "execution_count": null,
      "outputs": []
    },
    {
      "cell_type": "markdown",
      "source": [
        "\n",
        "\n",
        "Now we've got a simple function to turn our image file path names and their associated labels into tuples (we can turn these into Tensors next), we'll create a function to make data batches.\n",
        "\n",
        "Because we'll be dealing with 3 different sets of data (training, validation and test), we'll make sure the function can accomodate for each set.\n",
        "\n",
        "We'll set a default batch size of 32 because according to Yann Lecun (one of the OG's of deep learning), friends don't let friends train with batch sizes over 32.\n"
      ],
      "metadata": {
        "id": "6FJOys5jXy6s"
      }
    },
    {
      "cell_type": "code",
      "source": [
        "# Define the batch size, 32 is a good default\n",
        "BATCH_SIZE = 32\n",
        "\n",
        "# Create a function to turn data into batches\n",
        "def create_data_batches(x, y=None, batch_size=BATCH_SIZE, valid_data=False, test_data=False):\n",
        "  \"\"\"\n",
        "  Creates batches of data out of image (x) and label (y) pairs.\n",
        "  Shuffles the data if it's training data but doesn't shuffle it if it's validation data.\n",
        "  Also accepts test data as input (no labels).\n",
        "  \"\"\"\n",
        "  # If the data is a test dataset, we probably don't have labels\n",
        "  if test_data:\n",
        "    print(\"Creating test data batches...\")\n",
        "    data = tf.data.Dataset.from_tensor_slices((tf.constant(x))) # only filepaths\n",
        "    data_batch = data.map(process_image).batch(BATCH_SIZE)\n",
        "    return data_batch\n",
        "  \n",
        "  # If the data if a valid dataset, we don't need to shuffle it\n",
        "  elif valid_data:\n",
        "    print(\"Creating validation data batches...\")\n",
        "    data = tf.data.Dataset.from_tensor_slices((tf.constant(x), # filepaths\n",
        "                                               tf.constant(y))) # labels\n",
        "    data_batch = data.map(get_image_label).batch(BATCH_SIZE)\n",
        "    return data_batch\n",
        "\n",
        "  else:\n",
        "    # If the data is a training dataset, we shuffle it\n",
        "    print(\"Creating training data batches...\")\n",
        "    # Turn filepaths and labels into Tensors\n",
        "    data = tf.data.Dataset.from_tensor_slices((tf.constant(x), # filepaths\n",
        "                                              tf.constant(y))) # labels\n",
        "    \n",
        "    # Shuffling pathnames and labels before mapping image processor function is faster than shuffling images\n",
        "    data = data.shuffle(buffer_size=len(x))\n",
        "\n",
        "    # Create (image, label) tuples (this also turns the image path into a preprocessed image)\n",
        "    data = data.map(get_image_label)\n",
        "\n",
        "    # Turn the data into batches\n",
        "    data_batch = data.batch(BATCH_SIZE)\n",
        "  return data_batch"
      ],
      "metadata": {
        "id": "AVJlbCNsXuri"
      },
      "execution_count": null,
      "outputs": []
    },
    {
      "cell_type": "code",
      "source": [
        "# Create training and validation data batches\n",
        "train_data = create_data_batches(X_train, y_train)\n",
        "val_data = create_data_batches(X_val, y_val, valid_data=True)"
      ],
      "metadata": {
        "id": "mPnuzXi9p7JV"
      },
      "execution_count": null,
      "outputs": []
    },
    {
      "cell_type": "code",
      "source": [
        "# Check out the different attributtes of our data batches\n",
        "train_data.element_spec, val_data.element_spec"
      ],
      "metadata": {
        "id": "JBeplEVpqMlT"
      },
      "execution_count": null,
      "outputs": []
    },
    {
      "cell_type": "markdown",
      "source": [
        "Look at that! We've got our data in batches, more specifically, they're in Tensor pairs of (images, labels) ready for use on a GPU.\n",
        "\n",
        "But having our data in batches can be a bit of a hard concept to understand. Let's build a function which helps us visualize what's going on under the hood."
      ],
      "metadata": {
        "id": "HtU0wTNYqd70"
      }
    },
    {
      "cell_type": "markdown",
      "source": [
        "## Visualizing Data Batches"
      ],
      "metadata": {
        "id": "HUst2KpJqj6N"
      }
    },
    {
      "cell_type": "code",
      "source": [
        "# Create a function for viewing images in a data batch\n",
        "def show_25_images(images, labels):\n",
        "  \"\"\"\n",
        "  Displays 25 images from a data batch.\n",
        "  \"\"\"\n",
        "  # Setup the figure\n",
        "  plt.figure(figsize=(10, 10))\n",
        "  # Loop through 25 (for displaying 25 images)\n",
        "  for i in range(25):\n",
        "    # Create subplots (5 rows, 5 columns)\n",
        "    ax = plt.subplot(5, 5, i+1)\n",
        "    # Display an image\n",
        "    plt.imshow(images[i])\n",
        "    # Add the image label as the title\n",
        "    plt.title(unique_breeds[labels[i].argmax()])\n",
        "    # Turn gird lines off\n",
        "    plt.axis(\"off\")"
      ],
      "metadata": {
        "id": "-Z8LutK4qXVj"
      },
      "execution_count": null,
      "outputs": []
    },
    {
      "cell_type": "markdown",
      "source": [
        "\n",
        "\n",
        "To make computation efficient, a batch is a tighly wound collection of Tensors.\n",
        "\n",
        "So to view data in a batch, we've got to unwind it.\n",
        "\n",
        "We can do so by calling the as_numpy_iterator() method on a data batch.\n",
        "\n",
        "This will turn our a data batch into something which can be iterated over.\n",
        "\n",
        "Passing an iterable to next() will return the next item in the iterator.\n",
        "\n",
        "In our case, next will return a batch of 32 images and label pairs.\n",
        "\n",
        "**Note:** Running the cell below and loading images may take a little while.\n"
      ],
      "metadata": {
        "id": "WFMZNrhqsIEz"
      }
    },
    {
      "cell_type": "code",
      "source": [
        "# Visualize training images from the training data batch\n",
        "train_images, train_labels = next(train_data.as_numpy_iterator())\n",
        "show_25_images(train_images, train_labels)"
      ],
      "metadata": {
        "id": "Ztq2SUNAr99i"
      },
      "execution_count": null,
      "outputs": []
    },
    {
      "cell_type": "code",
      "source": [
        "# Visualize validation images from the validation data batch\n",
        "val_images, val_labels = next(val_data.as_numpy_iterator())\n",
        "show_25_images(val_images, val_labels)"
      ],
      "metadata": {
        "id": "-Y6ss-hXslUx"
      },
      "execution_count": null,
      "outputs": []
    },
    {
      "cell_type": "markdown",
      "source": [
        "\n",
        "## Creating and training a model\n",
        "\n",
        "Now our data is ready, let's prepare it modelling. We'll use an existing model from TensorFlow Hub.\n",
        "\n",
        "TensorFlow Hub is a resource where you can find pretrained machine learning models for the problem you're working on.\n",
        "\n",
        "Using a pretrained machine learning model is often referred to as **transfer learning**.\n",
        "\n",
        "### Why use a pretrained model?\n",
        "\n",
        "Building a machine learning model and training it on lots from scratch can be expensive and time consuming.\n",
        "\n",
        "Transfer learning helps eliviate some of these by taking what another model has learned and using that information with your own problem.\n",
        "\n",
        "### How do we choose a model?\n",
        "\n",
        "Since we know our problem is image classification (classifying different dog breeds), we can navigate the TensorFlow Hub page by our problem domain (image).\n",
        "\n",
        "We start by choosing the image problem domain, and then can filter it down by subdomains, in our case, image classification.\n",
        "\n",
        "Doing this gives a list of different pretrained models we can apply to our task.\n",
        "\n",
        "Clicking on one gives us information about the model as well as instructions for using it.\n",
        "\n",
        "For example, clicking on the mobilenet_v2_130_224 model, tells us this model takes an input of images in the shape 224, 224. It also says the model has been trained in the domain of image classification.\n",
        "\n",
        "Let's try it out.\n",
        "\n",
        "### Building a model\n",
        "\n",
        "Before we build a model, there are a few things we need to define:\n",
        "\n",
        "* The input shape (images, in the form of Tensors) to our model.\n",
        "* The output shape (image labels, in the form of Tensors) of our model.\n",
        "* The URL of the model we want to use.\n",
        "\n",
        "These things will be standard practice with whatever machine learning model you use. And because we're using TensorFlow, everything will be in the form of Tensors.\n"
      ],
      "metadata": {
        "id": "dBQWlGGMtSYC"
      }
    },
    {
      "cell_type": "code",
      "source": [
        "# Setup input shape to the model\n",
        "INPUT_SHAPE = [None, IMG_SIZE, IMG_SIZE, 3] # batch, height, width, colour channels\n",
        "\n",
        "# Setup output shape of the model\n",
        "OUTPUT_SHAPE = len(unique_breeds)\n",
        "\n",
        "# Setup model URL from TensorFlow Hub\n",
        "MODEL_URL = \"https://tfhub.dev/google/imagenet/mobilenet_v2_130_224/classification/4\""
      ],
      "metadata": {
        "id": "46MR_HfPs6Ao"
      },
      "execution_count": null,
      "outputs": []
    },
    {
      "cell_type": "markdown",
      "source": [
        "\n",
        "Now we've got the inputs, outputs and model we're using ready to go. We can start to put them together\n",
        "\n",
        "There are many ways of building a model in TensorFlow but one of the best ways to get started is to use the Keras API.\n",
        "\n",
        "Defining a deep learning model in Keras can be as straightforward as saying, \"here are the layers of the model, the input shape and the output shape, let's go!\"\n",
        "\n",
        "Knowing this, let's create a function which:\n",
        "\n",
        "*    Takes the input shape, output shape and the model we've chosen's URL as parameters.\n",
        "*    Defines the layers in a Keras model in a sequential fashion (do this first, then this, then that).\n",
        "*    Compiles the model (says how it should be evaluated and improved).\n",
        "*    Builds the model (tells it what kind of input shape it'll be getting).\n",
        "*    Returns the model.\n",
        "\n",
        "We'll take a look at the code first, then dicuss each part."
      ],
      "metadata": {
        "id": "4LglM5C9vcQE"
      }
    },
    {
      "cell_type": "code",
      "source": [
        "# Create a function which builds a Keras model\n",
        "def create_model(input_shape=INPUT_SHAPE, output_shape=OUTPUT_SHAPE, model_url=MODEL_URL):\n",
        "  print(\"Building model with:\", MODEL_URL)\n",
        "\n",
        "  # Setup the model layers\n",
        "  model = tf.keras.Sequential([\n",
        "        hub.KerasLayer(MODEL_URL),                   # Layer 1 (input layer)\n",
        "        tf.keras.layers.Dense(units=OUTPUT_SHAPE,\n",
        "                              activation=\"softmax\")  # Layer 2 (output layer)                       \n",
        "  ])\n",
        "\n",
        "  # Compile the model\n",
        "  model.compile(\n",
        "      loss=tf.keras.losses.CategoricalCrossentropy(),    # Our model wants to reduce this (how wrong its guesses are)\n",
        "      optimizer = tf.keras.optimizers.Adam(),   # A friend telling our model how to improve its guesses\n",
        "      metrics=['accuracy']  # We'd like for this to go up\n",
        "  )\n",
        "\n",
        "  # Build the model \n",
        "  model.build(INPUT_SHAPE)  # Let the model know what kind of inputs it'll be getting\n",
        "\n",
        "  return model"
      ],
      "metadata": {
        "id": "Ui_KNwpbvW_l"
      },
      "execution_count": null,
      "outputs": []
    },
    {
      "cell_type": "markdown",
      "source": [
        "What's happening here? \n",
        "\n",
        "## Setting up the model layers\n",
        "\n",
        "There are two ways to do this in Keras, the [functional](https://www.tensorflow.org/guide/keras/functional) and [sequential API](https://www.tensorflow.org/guide/keras/overview#build_a_simple_model). We've used the sequential.\n",
        "\n",
        "Which one should you use?\n",
        "\n",
        "The Keras documentation states the functional API is the way to go for defining complex models but the sequential API (a linear stack of layers) is perfectly fine for getting started, which is what we're doing.\n",
        "\n",
        "The first layer we use is the model from TensorFlow Hub (hub.KerasLayer(MODEL_URL). So our first layer is actually an entire model (many more layers). This **input layer** takes in our images and finds patterns in them based on the patterns mobilenet_v2_130_224 has found.\n",
        "\n",
        "The next layer (tf.keras.layers.Dense()) is the **output layer** of our model. It brings all of the information discovered in the input layer together and outputs it in the shape we're after, 120 (the number of unique labels we have).\n",
        "\n",
        "The activation=\"softmax\" parameter tells the output layer, we'd like to assign a probability value to each of the 120 labels [somewhere between 0 & 1](https://en.wikipedia.org/wiki/Softmax_function). The higher the value, the more the model believes the input image should have that label. If we were working on a binary classification problem, we'd use activation=\"sigmoid\".\n",
        "\n",
        "For more on which activation function to use, see the article [Which Loss and Activation Functions Should I Use?](https://towardsdatascience.com/deep-learning-which-loss-and-activation-functions-should-i-use-ac02f1c56aa8)\n",
        "\n",
        "## Compiling the model\n",
        "This one is best explained with a story.\n",
        "\n",
        "Let's say you're at the international hill descending championships. Where your start standing on top of a hill and your goal is to get to the bottom of the hill. The catch is you're blindfolded.\n",
        "\n",
        "Luckily, your friend Adam is standing at the bottom of the hill shouting instructions on how to get down.\n",
        "\n",
        "At the bottom of the hill there's a judge evaluating how you're doing. They know where you need to end up so they compare how you're doing to where you're supposed to be. Their comparison is how you get scored.\n",
        "\n",
        "Transferring this to model.compile() terminology:\n",
        "\n",
        "* loss - The height of the hill is the loss function, the models goal is to minimize this, getting to 0 (the bottom of the hill) means the model is learning perfectly.\n",
        "* optimizer - Your friend Adam is the optimizer, he's the one telling you how to navigate the hill (lower the loss function) based on what you've done so far. His name is Adam because the [Adam optimizer](https://machinelearningmastery.com/adam-optimization-algorithm-for-deep-learning/) is a great general which performs well on most models. Other optimizers include [RMSprop](https://ruder.io/optimizing-gradient-descent/index.html#rmsprop) and [Stochastic Gradient Descent](https://en.wikipedia.org/wiki/Stochastic_gradient_descent).\n",
        "* metrics - This is the onlooker at the bottom of the hill rating how well your perfomance is. Or in our case, giving the accuracy of how well our model is predicting the correct image label.\n",
        "\n",
        "## Building the model\n",
        "We use model.build() whenever we're using a layer from TensorFlow Hub to tell our model what input shape it can expect.\n",
        "\n",
        "In this case, the input shape is [None, IMG_SIZE, IMG_SIZE, 3] or [None, 224, 224, 3] or [batch_size, img_height, img_width, color_channels].\n",
        "\n",
        "Batch size is left as None as this is inferred from the data we pass the model. In our case, it'll be 32 since that's what we've set up our data batches as.\n",
        "\n",
        "Now we've gone through each section of the function, let's use it to create a model.\n",
        "\n",
        "We can call summary() on our model to get idea of what our model looks like."
      ],
      "metadata": {
        "id": "0vZCd9e9yAVB"
      }
    },
    {
      "cell_type": "code",
      "source": [
        "# Create a model and check its details\n",
        "model = create_model()\n",
        "model.summary() "
      ],
      "metadata": {
        "id": "B_7a_lpzx96B"
      },
      "execution_count": null,
      "outputs": []
    },
    {
      "cell_type": "markdown",
      "source": [
        "\n",
        "\n",
        "The non-trainable parameters are the patterns learned by mobilenet_v2_130_224 and the trainable parameters are the ones in the dense layer we added.\n",
        "\n",
        "This means the main bulk of the information in our model has already been learned and we're going to take that and adapt it to our own problem.\n",
        "### Creating callbacks\n",
        "\n",
        "We've got a model ready to go but before we train it we'll make some callbacks.\n",
        "\n",
        "Callbacks are helper functions a model can use during training to do things such as save a models progress, check a models progress or stop training early if a model stops improving.\n",
        "\n",
        "The two callbacks we're going to add are a TensorBoard callback and an Early Stopping callback.\n",
        "### TensorBoard Callback\n",
        "\n",
        "[TensorBoard](https://www.tensorflow.org/tensorboard/get_started) helps provide a visual way to monitor the progress of your model during and after training.\n",
        "\n",
        "It can be used [directly in a notebook](https://www.tensorflow.org/tensorboard/tensorboard_in_notebooks) to track the performance measures of a model such as loss and accuracy.\n",
        "\n",
        "To set up a TensorBoard callback and view TensorBoard in a notebook, we need to do three things:\n",
        "\n",
        "1.    Load the TensorBoard notebook extension.\n",
        "2.    Create a TensorBoard callback which is able to save logs to a directory and pass it to our model's fit() function.\n",
        "3.    Visualize the our models training logs using the %tensorboard magic function (we'll do this later on).\n",
        "\n"
      ],
      "metadata": {
        "id": "iVVWGfee1bBc"
      }
    },
    {
      "cell_type": "code",
      "source": [
        "# Load the TensorBoard notebook extension\n",
        "%load_ext tensorboard"
      ],
      "metadata": {
        "id": "2iXyUgOA0uK3"
      },
      "execution_count": null,
      "outputs": []
    },
    {
      "cell_type": "code",
      "source": [
        "import datetime\n",
        "\n",
        "# Create a function to build a TensorBoard callback\n",
        "def create_tensorboard_callback():\n",
        "  # Create a log directory for storing TensorBoard logs\n",
        "  logdir = os.path.join(\"x\",\n",
        "                        # Make it so the logs get tracked whenever we run an experiment\n",
        "                        datetime.datetime.now().strftime(\"%Y%m%d-%H%M%S\"))\n",
        "  return tf.keras.callbacks.TensorBoard(logdir)"
      ],
      "metadata": {
        "id": "19GT7DPU2Aio"
      },
      "execution_count": null,
      "outputs": []
    },
    {
      "cell_type": "markdown",
      "source": [
        "\n",
        "### Early Stopping Callback\n",
        "\n",
        "[Early stopping](https://www.tensorflow.org/api_docs/python/tf/keras/callbacks/EarlyStopping) helps prevent overfitting by stopping a model when a certain evaluation metric stops improving. If a model trains for too long, it can do so well at finding patterns in a certain dataset that it's not able to use those patterns on another dataset it hasn't seen before (doesn't generalize).\n",
        "\n",
        "It's basically like saying to our model, \"keep finding patterns until the quality of those patterns starts to go down.\""
      ],
      "metadata": {
        "id": "Jg189nUR2TeI"
      }
    },
    {
      "cell_type": "code",
      "source": [
        "# Create early stopping (once our model stops improving, stop training)\n",
        "early_stopping = tf.keras.callbacks.EarlyStopping(monitor=\"val_accuracy\",\n",
        "                                                  patience=3) # stops after 3 rounds of no improvements"
      ],
      "metadata": {
        "id": "EKXoiAYf2Ss3"
      },
      "execution_count": null,
      "outputs": []
    },
    {
      "cell_type": "markdown",
      "source": [
        "\n",
        "### Training a model (on a subset of data)\n",
        "\n",
        "Our first model is only going to be trained on 1000 images. Or trained on 800 images and then validated on 200 images, meaning 1000 images total or about 10% of the total data.\n",
        "\n",
        "We do this to make sure everything is working. And if it is, we can step it up later and train on the entire training dataset.\n",
        "\n",
        "The final parameter we'll define before training is NUM_EPOCHS (also known as **number of epochs**).\n",
        "\n",
        "NUM_EPOCHS defines how many passes of the data we'd like our model to do. A pass is equivalent to our model trying to find patterns in each dog image and see which patterns relate to each label.\n",
        "\n",
        "If NUM_EPOCHS=1, the model will only look at the data once and will probably score badly because it hasn't a chance to correct itself. It would be like you competing in the international hill descent championships and your friend Adam only being able to give you 1 single instruction to get down the hill.\n",
        "\n",
        "What's a good value for NUM_EPOCHS?\n",
        "\n",
        "This one is hard to say. 10 could be a good start but so could 100. This is one of the reasons we created an early stopping callback. Having early stopping setup means if we set NUM_EPOCHS to 100 but our model stops improving after 22 epochs, it'll stop training.\n",
        "\n",
        "Along with this, let's quickly check if we're still using a GPU.\n"
      ],
      "metadata": {
        "id": "CIYwzSvC3ByB"
      }
    },
    {
      "cell_type": "code",
      "source": [
        "# Check again if GPU is available (otherwise computing will take a looooonnnnggggg time)\n",
        "print(\"GPU\", \"available (YESS!!!!)\" if tf.config.list_physical_devices(\"GPU\") else \"not available :(\")"
      ],
      "metadata": {
        "id": "8i9Fm6Z82r4S"
      },
      "execution_count": null,
      "outputs": []
    },
    {
      "cell_type": "code",
      "source": [
        "# How many rounds should we get the model to look through the data?\n",
        "NUM_EPOCHS = 100 #@param {type:\"slider\", min:10, max:100, step:10}"
      ],
      "metadata": {
        "id": "_c-p_q0O3RJV"
      },
      "execution_count": null,
      "outputs": []
    },
    {
      "cell_type": "markdown",
      "source": [
        "\n",
        "\n",
        "Boom! We've got a GPU running and NUM_EPOCHS setup. Let's create a simple function which trains a model. The function will:\n",
        "\n",
        "* Create a model using create_model().\n",
        "* Setup a TensorBoard callback using create_tensorboard_callback() (we do this here so it creates a log directory of the current date and time).\n",
        "* Call the fit() function on our model passing it the training data, validatation data, number of epochs to train for and the callbacks we'd like to use.\n",
        "* Return the fitted model.\n",
        "\n"
      ],
      "metadata": {
        "id": "YvtuxSrR3Vms"
      }
    },
    {
      "cell_type": "code",
      "source": [
        "# Build a function to train and return a trained model\n",
        "def train_model():\n",
        "  \"\"\"\n",
        "  Trains a given model and returns the trained version.\n",
        "  \"\"\"\n",
        "  # Create a model\n",
        "  model = create_model()\n",
        "\n",
        "  # Create a new TensorBoard session everytime we train a model\n",
        "  tensorboard = create_tensorboard_callback()\n",
        "\n",
        "  # Fit the model to the data passing it the callbacks we created\n",
        "  model.fit(x=train_data,\n",
        "            epochs=NUM_EPOCHS,\n",
        "            validation_data=val_data,\n",
        "            validation_freq=1, # check validation metrics every epoch\n",
        "            callbacks=[tensorboard, early_stopping])\n",
        "  \n",
        "  return model"
      ],
      "metadata": {
        "id": "WcCeyYyC3TeS"
      },
      "execution_count": null,
      "outputs": []
    },
    {
      "cell_type": "markdown",
      "source": [
        "**Note:** When training a model for the first time, the first epoch will take a while to load compared to the rest. This is because the model is getting ready and the data is being initialised. Using more data will generally take longer, which is why we've started with ~1000 images. After the first epoch, subsequent epochs should take a few seconds."
      ],
      "metadata": {
        "id": "kBYY0Q_14KEG"
      }
    },
    {
      "cell_type": "code",
      "source": [
        "# Fit the model to the data\n",
        "model = train_model()"
      ],
      "metadata": {
        "id": "rRKzI-UV4I9a"
      },
      "execution_count": null,
      "outputs": []
    },
    {
      "cell_type": "markdown",
      "source": [
        "\n",
        "\n",
        "**Question:** It looks like our model might be overfitting (getting far better results on the training set than the validation set), what are some ways to prevent model overfitting? Hint: this may involve searching something like \"ways to prevent overfitting in a deep learning model?\".\n",
        "\n",
        "**Note:** Overfitting to begin with is a good thing. It means our model is learning something.\n",
        "### Checking the TensorBoard logs\n",
        "\n",
        "Now our model has been trained, we can make its performance visual by checking the TensorBoard logs.\n",
        "\n",
        "The TensorBoard magic function (%tensorboard) will access the logs directory we created earlier and viualize its contents.\n"
      ],
      "metadata": {
        "id": "Pvkb69Tu4mC0"
      }
    },
    {
      "cell_type": "markdown",
      "source": [
        "**The back slashes are needed since there are spaces, we are writing this as if we are on the command line.**"
      ],
      "metadata": {
        "id": "srBrrizl8GQm"
      }
    },
    {
      "cell_type": "code",
      "source": [
        "%tensorboard --logdir drive/My\\ Drive/Colab\\ Notebooks/Complete\\ Machine\\ Learning\\ and\\ Data\\ Science\\ BootCamp\\ 2022/Dog\\ Vision/logs"
      ],
      "metadata": {
        "id": "D12fkHCd4XLI"
      },
      "execution_count": null,
      "outputs": []
    },
    {
      "cell_type": "markdown",
      "source": [
        "\n",
        "\n",
        "Thanks to our early_stopping callback, the model stopped training after 26 or so epochs (in my case, yours might be slightly different). This is because the validation accuracy failed to improve for 3 epochs.\n",
        "\n",
        "But the good new is, we can definitely see our model is learning something. The validation accuracy got to 65% in only a few minutes.\n",
        "\n",
        "This means, if we were to scale up the number of images, hopefully we'd see the accuracy increase.\n",
        "### Making and evaluating predictions using a trained model\n",
        "\n",
        "Before we scale up and train on more data, let's see some other ways we can evaluate our model. Because although accuracy is a pretty good indicator of how our model is doing, it would be even better if we could could see it in action.\n",
        "\n",
        "Making predictions with a trained model is as calling predict() on it and passing it data in the same format the model was trained on.\n"
      ],
      "metadata": {
        "id": "-N1Zn01i9AdC"
      }
    },
    {
      "cell_type": "code",
      "source": [
        "# Make predictions on the validation data (not used to train on)\n",
        "predictions = model.predict(val_data, verbose=1)   # verbose shows us how long there is to go\n",
        "predictions"
      ],
      "metadata": {
        "id": "vcPxE2tC7x5a"
      },
      "execution_count": null,
      "outputs": []
    },
    {
      "cell_type": "code",
      "source": [
        "# Check teh shape of predictions\n",
        "predictions.shape"
      ],
      "metadata": {
        "id": "pGGRSHff9ln9"
      },
      "execution_count": null,
      "outputs": []
    },
    {
      "cell_type": "markdown",
      "source": [
        "\n",
        "\n",
        "Making predictions with our model returns an array with a different value for each label.\n",
        "\n",
        "In this case, making predictions on the validation data (200 images) returns an array (predictions) of arrays, each containing 120 different values (one for each unique dog breed).\n",
        "\n",
        "These different values are the probabilities or the likelihood the model has predicted a certain image being a certain breed of dog. The higher the value, the more likely the model thinks a given image is a specific breed of dog.\n",
        "\n",
        "Let's see how we'd convert an array of probabilities into an actual label.\n"
      ],
      "metadata": {
        "id": "_iO5NAgm9taz"
      }
    },
    {
      "cell_type": "code",
      "source": [
        "# First prediction\n",
        "print(predictions[0])\n",
        "print(f\"Max value (probability of prediction): {np.max(predictions[0])}\") # the max probability value predicted by the model\n",
        "print(f\"Sum: {np.sum(predictions[0])}\") # because we used softmax activation in our model, this will be close to 1\n",
        "print(f\"Max index: {np.argmax(predictions[0])}\") # the index of where the max value in predictions[0] occurs\n",
        "print(f\"Predicted label: {unique_breeds[np.argmax(predictions[0])]}\") # the predicted label"
      ],
      "metadata": {
        "id": "jY68t7j19sPm"
      },
      "execution_count": null,
      "outputs": []
    },
    {
      "cell_type": "markdown",
      "source": [
        "\n",
        "\n",
        "Having this information is great but it would be even better if we could compare a prediction to its true label and original image.\n",
        "\n",
        "To help us, let's first build a little function to convert prediction probabilities into predicted labels.\n",
        "\n",
        "**Note:** Prediction probabilities are also known as confidence levels."
      ],
      "metadata": {
        "id": "DAKXUhrQ-x7I"
      }
    },
    {
      "cell_type": "code",
      "source": [
        "# Turn prediction probabilities into their respective label (easier to understand)\n",
        "def get_pred_label(prediction_probabilities):\n",
        "  \"\"\"\n",
        "  Turns an array of prediction probabilities into a label.\n",
        "  \"\"\"\n",
        "  return unique_breeds[np.argmax(prediction_probabilities)]\n",
        "\n",
        "# Get a predicted label based on an array of prediction probabilities\n",
        "pred_label = get_pred_label(predictions[0])\n",
        "pred_label"
      ],
      "metadata": {
        "id": "oRnAceHH-Aio"
      },
      "execution_count": null,
      "outputs": []
    },
    {
      "cell_type": "markdown",
      "source": [
        "\n",
        "\n",
        "Wonderful! Now we've got a list of all different predictions our model has made, we'll do the same for the validation images and validation labels.\n",
        "\n",
        "Remember, the model hasn't trained on the validation data, during the fit() function, it only used the validation data to evaluate itself. So we can use the validation images to visually compare our models predictions with the validation labels.\n",
        "\n",
        "Since our validation data (val_data) is in batch form, to get a list of validation images and labels, we'll have to unbatch it (using unbatch()) and then turn it into an iterator using as_numpy_iterator().\n",
        "\n",
        "Let's make a small function to do so."
      ],
      "metadata": {
        "id": "NxNCa0Ck-_OH"
      }
    },
    {
      "cell_type": "code",
      "source": [
        "# Create a function to unbatch a batched dataset\n",
        "def unbatchify(data):\n",
        "  \"\"\"\n",
        "  Takes a batched dataset of (image, label) Tensors and returns separate arrays\n",
        "  of images and labels.\n",
        "  \"\"\"\n",
        "  images = []\n",
        "  labels = []\n",
        "  # Loop through unbatched data\n",
        "  for image, label in data.unbatch().as_numpy_iterator():\n",
        "    images.append(image)\n",
        "    labels.append(unique_breeds[np.argmax(label)])\n",
        "  return images, labels\n",
        "\n",
        "# Unbatchify the validation data\n",
        "val_images, val_labels = unbatchify(val_data)\n",
        "val_images[0], val_labels[0]"
      ],
      "metadata": {
        "id": "4sJZqDwb-9Js"
      },
      "execution_count": null,
      "outputs": []
    },
    {
      "cell_type": "markdown",
      "source": [
        "\n",
        "\n",
        "Nailed it!\n",
        "\n",
        "Now we've got ways to get:\n",
        "\n",
        "*    Prediction labels\n",
        "*    Validation labels (truth labels)\n",
        "*    Validation images\n",
        "\n",
        "Let's make some functions to make these all a bit more visualize.\n",
        "\n",
        "More specifically, we want to be able to view an image, its predicted label and its actual label (true label).\n",
        "\n",
        "The first function we'll create will:\n",
        "\n",
        "*    Take an array of prediction probabilities, an array of truth labels, an array of images and an integer.\n",
        "*    Convert the prediction probabilities to a predicted label.\n",
        "*    Plot the predicted label, its predicted probability, the truth label and target image on a single plot.\n",
        "\n"
      ],
      "metadata": {
        "id": "ImGB1odJ_mK_"
      }
    },
    {
      "cell_type": "code",
      "source": [
        "def plot_pred(prediction_probabilities, labels, images, n=1):\n",
        "  \"\"\"\n",
        "  View the prediction, ground truth label and image for sample n.\n",
        "  \"\"\"\n",
        "  pred_prob, true_label, image = prediction_probabilities[n], labels[n], images[n]\n",
        "  \n",
        "  # Get the pred label\n",
        "  pred_label = get_pred_label(pred_prob)\n",
        "  \n",
        "  # Plot image & remove ticks\n",
        "  plt.imshow(image)\n",
        "  plt.xticks([])\n",
        "  plt.yticks([])\n",
        "\n",
        "  # Change the color of the title depending on if the prediction is right or wrong\n",
        "  if pred_label == true_label:\n",
        "    color = \"green\"\n",
        "  else:\n",
        "    color = \"red\"\n",
        "\n",
        "  plt.title(\"{} {:2.0f}% ({})\".format(pred_label,\n",
        "                                      np.max(pred_prob)*100,\n",
        "                                      true_label),\n",
        "                                      color=color)"
      ],
      "metadata": {
        "id": "14Jr3Ii-_hxY"
      },
      "execution_count": null,
      "outputs": []
    },
    {
      "cell_type": "code",
      "source": [
        "# View an example prediction, original image and truth label\n",
        "plot_pred(prediction_probabilities=predictions,\n",
        "          labels=val_labels,\n",
        "          images=val_images)"
      ],
      "metadata": {
        "id": "-iEN-L5O_7Bu"
      },
      "execution_count": null,
      "outputs": []
    },
    {
      "cell_type": "markdown",
      "source": [
        "\n",
        "\n",
        "Nice! Making functions to help visual your models results are really helpful in understanding how your model is doing.\n",
        "\n",
        "Since we're working with a multi-class problem (120 different dog breeds), it would also be good to see what other guesses our model is making. More specifically, if our model predicts a certain label with 24% probability, what else did it predict?\n",
        "\n",
        "Let's build a function to demonstrate. The function will:\n",
        "\n",
        "*    Take an input of a prediction probabilities array, a ground truth labels array and an integer.\n",
        "*    Find the predicted label using get_pred_label().\n",
        "*   Find the top 10:\n",
        "        * Prediction probabilities indexes\n",
        "        * Prediction probabilities values\n",
        "        * Prediction labels\n",
        "*    Plot the top 10 prediction probability values and labels, coloring the true label green.\n",
        "\n"
      ],
      "metadata": {
        "id": "INWX7X6nADdq"
      }
    },
    {
      "cell_type": "code",
      "source": [
        "def plot_pred_conf(prediction_probabilities, labels, n=1):\n",
        "  \"\"\"\n",
        "  Plots the top 10 highest prediction confidences along with\n",
        "  the truth label for sample n.\n",
        "  \"\"\"\n",
        "  pred_prob, true_label = prediction_probabilities[n], labels[n]\n",
        "\n",
        "  # Get the predicted label\n",
        "  pred_label = get_pred_label(pred_prob)\n",
        "\n",
        "  # Find the top 10 prediction confidence indexes\n",
        "  top_10_pred_indexes = pred_prob.argsort()[-10:][::-1]\n",
        "  # Find the top 10 prediction confidence values\n",
        "  top_10_pred_values = pred_prob[top_10_pred_indexes]\n",
        "  # Find the top 10 prediction labels\n",
        "  top_10_pred_labels = unique_breeds[top_10_pred_indexes]\n",
        "\n",
        "  # Setup plot\n",
        "  top_plot = plt.bar(np.arange(len(top_10_pred_labels)), \n",
        "                     top_10_pred_values, \n",
        "                     color=\"grey\")\n",
        "  plt.xticks(np.arange(len(top_10_pred_labels)),\n",
        "             labels=top_10_pred_labels,\n",
        "             rotation=\"vertical\")\n",
        "\n",
        "  # Change color of true label\n",
        "  if np.isin(true_label, top_10_pred_labels):\n",
        "    top_plot[np.argmax(top_10_pred_labels == true_label)].set_color(\"green\")\n",
        "  else:\n",
        "    pass"
      ],
      "metadata": {
        "id": "fzNygFb9_9LR"
      },
      "execution_count": null,
      "outputs": []
    },
    {
      "cell_type": "code",
      "source": [
        "plot_pred_conf(prediction_probabilities=predictions,\n",
        "               labels=val_labels,\n",
        "               n=9)"
      ],
      "metadata": {
        "id": "gSvbhsePWTV0"
      },
      "execution_count": null,
      "outputs": []
    },
    {
      "cell_type": "markdown",
      "source": [
        "Wonderful! Now we've got some functions to help us visualize our predictions and evaluate our model, let's check out a few."
      ],
      "metadata": {
        "id": "iLaAd567WZuk"
      }
    },
    {
      "cell_type": "code",
      "source": [
        "# Let's check a few predictions and their different values\n",
        "i_multiplier = 0\n",
        "num_rows = 3\n",
        "num_cols = 2\n",
        "num_images = num_rows*num_cols\n",
        "plt.figure(figsize=(5*2*num_cols, 5*num_rows))\n",
        "for i in range(num_images):\n",
        "  plt.subplot(num_rows, 2*num_cols, 2*i+1)\n",
        "  plot_pred(prediction_probabilities=predictions,\n",
        "            labels=val_labels,\n",
        "            images=val_images,\n",
        "            n=i+i_multiplier)\n",
        "  plt.subplot(num_rows, 2*num_cols, 2*i+2)\n",
        "  plot_pred_conf(prediction_probabilities=predictions,\n",
        "                labels=val_labels,\n",
        "                n=i+i_multiplier)\n",
        "plt.tight_layout(h_pad=1.0)\n",
        "plt.show()"
      ],
      "metadata": {
        "id": "OPVVANJ5WWF8"
      },
      "execution_count": null,
      "outputs": []
    },
    {
      "cell_type": "markdown",
      "source": [
        "\n",
        "### Saving and reloading a model\n",
        "\n",
        "After training a model, it's a good idea to save it. Saving it means you can share it with colleagues, put it in an application and more importantly, won't have to go through the potentially expensive step of retraining it.\n",
        "\n",
        "The format of an [entire saved Keras model is h5](https://www.tensorflow.org/tutorials/keras/save_and_load). So we'll make a function which can take a model as input and utilise the save() method to save it as a h5 file to a specified directory.\n"
      ],
      "metadata": {
        "id": "vPHF9gvdWwas"
      }
    },
    {
      "cell_type": "code",
      "source": [
        "def save_model(model, suffix=None):\n",
        "  \"\"\"\n",
        "  Saves a given model in a models directory and appends a suffix (str)\n",
        "  for clarity and reuse.\n",
        "  \"\"\"\n",
        "  # Create model directory with current time\n",
        "  modeldir = os.path.join(\"drive/My Drive/Colab Notebooks/Complete Machine Learning and Data Science BootCamp 2022/Dog Vision/models\",\n",
        "                          datetime.datetime.now().strftime(\"%Y%m%d-%H%M%s\"))\n",
        "  model_path = modeldir + \"-\" + suffix + \".h5\" # save format of model\n",
        "  print(f\"Saving model to: {model_path}...\")\n",
        "  model.save(model_path)\n",
        "  return model_path"
      ],
      "metadata": {
        "id": "44QxoaIcWkQU"
      },
      "execution_count": null,
      "outputs": []
    },
    {
      "cell_type": "markdown",
      "source": [
        "\n",
        "\n",
        "If we've got a saved model, we'd like to load it, let's create a function which can take a model path and use the tf.keras.models.load_model() function to load it into the notebook.\n",
        "\n",
        "Because we're using a component from TensorFlow Hub (hub.KerasLayer) we'll have to pass this as a parameter to the custom_objects parameter.\n"
      ],
      "metadata": {
        "id": "HlHnAa4lXVPE"
      }
    },
    {
      "cell_type": "code",
      "source": [
        "def load_model(model_path):\n",
        "  \"\"\"\n",
        "  Loads a saved model from a specified path.\n",
        "  \"\"\"\n",
        "  print(f\"Loading saved model from: {model_path}\")\n",
        "  model = tf.keras.models.load_model(model_path,\n",
        "                                     custom_objects={\"KerasLayer\":hub.KerasLayer})\n",
        "  return model"
      ],
      "metadata": {
        "id": "3H_-ZRdvXUTE"
      },
      "execution_count": null,
      "outputs": []
    },
    {
      "cell_type": "code",
      "source": [
        "# Save our model trained on 1000 images\n",
        "save_model(model, suffix=\"1000-images-Adam\")"
      ],
      "metadata": {
        "id": "h8iZUYObXeas"
      },
      "execution_count": null,
      "outputs": []
    },
    {
      "cell_type": "code",
      "source": [
        "# Load our model trained on 1000 images\n",
        "model_1000_images = load_model('drive/My Drive/Colab Notebooks/Complete Machine Learning and Data Science BootCamp 2022/Dog Vision/models/20220110-23411641858077-1000-images-Adam.h5')"
      ],
      "metadata": {
        "id": "2tAwlMujXhc7"
      },
      "execution_count": null,
      "outputs": []
    },
    {
      "cell_type": "markdown",
      "source": [
        "Compare the two models (the original one and loaded one). We can do so easily using the evaluate() method."
      ],
      "metadata": {
        "id": "GUU6Lrw3X66z"
      }
    },
    {
      "cell_type": "code",
      "source": [
        "# Evaluate the pre-saved model\n",
        "model.evaluate(val_data)"
      ],
      "metadata": {
        "id": "bXdOtg_5XsNN"
      },
      "execution_count": null,
      "outputs": []
    },
    {
      "cell_type": "code",
      "source": [
        "# Evaluate the loaded model\n",
        "model_1000_images.evaluate(val_data)"
      ],
      "metadata": {
        "id": "Ly_pfLqKX9iS"
      },
      "execution_count": null,
      "outputs": []
    },
    {
      "cell_type": "markdown",
      "source": [
        "\n",
        "## Training a model (on the full data)\n",
        "\n",
        "Now we know our model works on a subset of the data, we can start to move forward with training one on the full data.\n",
        "\n",
        "Above, we saved all of the training filepaths to X and all of the training labels to y. Let's check them out.\n"
      ],
      "metadata": {
        "id": "OAbC6RN7YGPF"
      }
    },
    {
      "cell_type": "code",
      "source": [
        "# Remind ourselves of the size of the full dataset\n",
        "len(X), len(y)"
      ],
      "metadata": {
        "id": "1UMejiK8YBty"
      },
      "execution_count": null,
      "outputs": []
    },
    {
      "cell_type": "markdown",
      "source": [
        "\n",
        "\n",
        "There we go! We've got over 10,000 images and labels in our training set.\n",
        "\n",
        "Before we can train a model on these, we'll have to turn them into a data batch.\n",
        "\n",
        "The beautiful thing is, we can use our create_data_batches() function from above which also preprocesses our images for us (thank you past us for writing a helpful function).\n"
      ],
      "metadata": {
        "id": "BRxrrHqHYe6n"
      }
    },
    {
      "cell_type": "code",
      "source": [
        "# Turn full training data in a data batch\n",
        "full_data = create_data_batches(X, y)"
      ],
      "metadata": {
        "id": "lC5jTwAmYQ3E"
      },
      "execution_count": null,
      "outputs": []
    },
    {
      "cell_type": "markdown",
      "source": [
        "\n",
        "\n",
        "Our data is in a data batch, all we need now is a model.\n",
        "\n",
        "And surprise, we've got a function for that too! Let's use create_model() to instantiate another model.\n"
      ],
      "metadata": {
        "id": "isL--xZBYjdk"
      }
    },
    {
      "cell_type": "code",
      "source": [
        "# Instantiate a new model for training on the full dataset\n",
        "full_model = create_model()"
      ],
      "metadata": {
        "id": "CFpDtn8yYh4l"
      },
      "execution_count": null,
      "outputs": []
    },
    {
      "cell_type": "markdown",
      "source": [
        "Since we've made a new model instance, full_model, we'll need some callbacks too."
      ],
      "metadata": {
        "id": "pp20_bIcYugc"
      }
    },
    {
      "cell_type": "code",
      "source": [
        "# Create full model callbacks\n",
        "\n",
        "# TensorBoard callback\n",
        "full_model_tensorboard = create_tensorboard_callback()\n",
        "\n",
        "# Early stopping callback\n",
        "# Note: No validation set when training on all the data, therefore can't monitor validation accruacy\n",
        "full_model_early_stopping = tf.keras.callbacks.EarlyStopping(monitor=\"accuracy\",\n",
        "                                                             patience=3)"
      ],
      "metadata": {
        "id": "1QunkhUVYqgz"
      },
      "execution_count": null,
      "outputs": []
    },
    {
      "cell_type": "markdown",
      "source": [
        "To monitor the model whilst it trains, we'll load TensorBoard (it should update every 30-seconds or so whilst the model trains)."
      ],
      "metadata": {
        "id": "xmncMa1JY5-c"
      }
    },
    {
      "cell_type": "code",
      "source": [
        "%tensorboard --logdir drive/My\\ Drive/Colab\\ Notebooks/Complete\\ Machine\\ Learning\\ and\\ Data\\ Science\\ BootCamp\\ 2022/Dog\\ Vision/logs"
      ],
      "metadata": {
        "id": "HZl1vIUeYzKs"
      },
      "execution_count": null,
      "outputs": []
    },
    {
      "cell_type": "markdown",
      "source": [
        "\n",
        "\n",
        "**Note:** Since running the cell below will cause the model to train on all of the data (10,000+) images, it may take a fairly long time to get started and finish. However, thanks to our full_model_early_stopping callback, it'll stop before it starts going too long.\n",
        "\n",
        "Remember, the first epoch is always the longest as data gets loaded into memory. After it's there, it'll speed up.\n"
      ],
      "metadata": {
        "id": "0lPRtiC8ZLtD"
      }
    },
    {
      "cell_type": "code",
      "source": [
        "# Fit the full model to the full training data\n",
        "full_model.fit(x=full_data,\n",
        "               epochs=NUM_EPOCHS,\n",
        "               callbacks=[full_model_tensorboard, \n",
        "                          full_model_early_stopping])"
      ],
      "metadata": {
        "id": "QNYMXY2vZWNF"
      },
      "execution_count": null,
      "outputs": []
    },
    {
      "cell_type": "markdown",
      "source": [
        "\n",
        "## Saving and reloading the full model\n",
        "\n",
        "Even on a GPU, our full model took a while to train. So it's a good idea to save it.\n",
        "\n",
        "We can do so using our save_model() function.\n",
        "\n",
        "Challenge: It may be a good idea to incorporate the save_model() function into a train_model() function. Or look into setting up a checkpoint callback.\n"
      ],
      "metadata": {
        "id": "PZ9na_TmepAU"
      }
    },
    {
      "cell_type": "code",
      "source": [
        "# Save model to file\n",
        "save_model(full_model, suffix=\"all-images-Adam\")"
      ],
      "metadata": {
        "id": "855n-doVZbg0"
      },
      "execution_count": null,
      "outputs": []
    },
    {
      "cell_type": "code",
      "source": [
        "# Load in the full model\n",
        "loaded_full_model = load_model('drive/My Drive/Colab Notebooks/Complete Machine Learning and Data Science BootCamp 2022/Dog Vision/models/20220111-00121641859971-all-images-Adam.h5')"
      ],
      "metadata": {
        "id": "7Rd9WlhCev0T"
      },
      "execution_count": null,
      "outputs": []
    },
    {
      "cell_type": "markdown",
      "source": [
        "\n",
        "## Making predictions on the test dataset\n",
        "\n",
        "Since our model has been trained on images in the form of Tensor batches, to make predictions on the test data, we'll have to get it into the same format.\n",
        "\n",
        "Luckily we created create_data_batches() earlier which can take a list of filenames as input and convert them into Tensor batches.\n",
        "\n",
        "To make predictions on the test data, we'll:\n",
        "\n",
        "*    Get the test image filenames.\n",
        "*    Convert the filenames into test data batches using create_data_batches() and setting the test_data parameter to True (since there are no labels with the test images).\n",
        "*    Make a predictions array by passing the test data batches to the predict() function.\n",
        "\n"
      ],
      "metadata": {
        "id": "aIMF8cIQgnms"
      }
    },
    {
      "cell_type": "code",
      "source": [
        "# Load test image filenames (since we're using os.listdir(), these already have .jpg)\n",
        "test_path = \"drive/My Drive/Colab Notebooks/Complete Machine Learning and Data Science BootCamp 2022/Dog Vision/test/\"\n",
        "test_filenames = [test_path + fname for fname in os.listdir(test_path)]\n",
        "\n",
        "test_filenames[:10]"
      ],
      "metadata": {
        "id": "rqfRTdDngRRM"
      },
      "execution_count": null,
      "outputs": []
    },
    {
      "cell_type": "code",
      "source": [
        "# How many test images are there?\n",
        "len(test_filenames)"
      ],
      "metadata": {
        "id": "UE-yWMzQhF2s"
      },
      "execution_count": null,
      "outputs": []
    },
    {
      "cell_type": "code",
      "source": [
        "# Create test data batch\n",
        "test_data = create_data_batches(test_filenames, test_data=True)"
      ],
      "metadata": {
        "id": "LNGmO72Nhdl8"
      },
      "execution_count": null,
      "outputs": []
    },
    {
      "cell_type": "markdown",
      "source": [
        "**Note:** Since there are 10,000+ test images, making predictions could take a while, even on a GPU. So beware running the cell below may take up to an hour."
      ],
      "metadata": {
        "id": "rf-bRS5ghhaX"
      }
    },
    {
      "cell_type": "code",
      "source": [
        "# Make predictions on test data batch using the loaded full model\n",
        "test_predictions = loaded_full_model.predict(test_data,\n",
        "                                             verbose=1)"
      ],
      "metadata": {
        "id": "jTfcw0eKhgPE"
      },
      "execution_count": null,
      "outputs": []
    },
    {
      "cell_type": "code",
      "source": [
        "# Check out the test predictions\n",
        "test_predictions[:10]"
      ],
      "metadata": {
        "id": "GviWnqH-hsYN"
      },
      "execution_count": null,
      "outputs": []
    },
    {
      "cell_type": "markdown",
      "source": [
        "\n",
        "## Preparing test dataset predictions for Kaggle\n",
        "\n",
        "Looking at the Kaggle sample submission, it looks like they want the models output probabilities each for label along with the image ID's.\n",
        "\n",
        "To get the data in this format, we'll:\n",
        "\n",
        "*    Create a pandas DataFrame with an ID column as well as a column for each dog breed.\n",
        "*    Add data to the ID column by extracting the test image ID's from their filepaths.\n",
        "*    Add data (the prediction probabilities) to each of the dog breed columns using the unique_breeds list and the test_predictions list.\n",
        "*    Export the DataFrame as a CSV to submit it to Kaggle.\n",
        "\n"
      ],
      "metadata": {
        "id": "zrJC2gkshujE"
      }
    },
    {
      "cell_type": "code",
      "source": [
        "# Create pandas DataFrame with empty columns\n",
        "preds_df = pd.DataFrame(columns=[\"id\"] + list(unique_breeds))\n",
        "preds_df.head()"
      ],
      "metadata": {
        "id": "eKdmpPOAh_n2"
      },
      "execution_count": null,
      "outputs": []
    },
    {
      "cell_type": "code",
      "source": [
        "# Append test image ID's to predictions DataFrame\n",
        "test_path = \"drive/My Drive/Colab Notebooks/Complete Machine Learning and Data Science BootCamp 2022/Dog Vision/test/\"\n",
        "preds_df[\"id\"] = [os.path.splitext(path)[0] for path in os.listdir(test_path)]\n",
        "preds_df.head()"
      ],
      "metadata": {
        "id": "mcbsOVsHiB6N"
      },
      "execution_count": null,
      "outputs": []
    },
    {
      "cell_type": "code",
      "source": [
        "# Add the prediction probabilities to each dog breed column\n",
        "preds_df[list(unique_breeds)] = test_predictions\n",
        "preds_df.head()"
      ],
      "metadata": {
        "id": "CZdMtObyiLWt"
      },
      "execution_count": null,
      "outputs": []
    },
    {
      "cell_type": "markdown",
      "source": [
        "Boom! Let's now export our predictions DataFrame to CSV so we can submit it to Kaggle."
      ],
      "metadata": {
        "id": "R7Ka7_jTiOUB"
      }
    },
    {
      "cell_type": "code",
      "source": [
        "preds_df.to_csv(\"drive/My Drive/Colab Notebooks/Complete Machine Learning and Data Science BootCamp 2022/Dog Vision/full_submission_1_mobilienetV2_adam.csv\",\n",
        "                 index=False)"
      ],
      "metadata": {
        "id": "sa8ZYn2JiWQe"
      },
      "execution_count": null,
      "outputs": []
    },
    {
      "cell_type": "markdown",
      "source": [
        "\n",
        "## Making predictions on custom images\n",
        "\n",
        "It's great being able to make predictions on a test dataset already provided for us.\n",
        "\n",
        "But how could we use our model on our own images?\n",
        "\n",
        "The premise remains, if we want to make predictions on our own custom images, we have to pass them to the model in the same format the model was trained on.\n",
        "\n",
        "To do so, we'll:\n",
        "\n",
        "*    Get the filepaths of our own images.\n",
        "*    Turn the filepaths into data batches using create_data_batches(). And since our custom images won't have labels, we set the test_data parameter to True.\n",
        "*    Pass the custom image data batch to our model's predict() method.\n",
        "*    Convert the prediction output probabilities to prediction labels.\n",
        "*    Compare the predicted labels to the custom images.\n",
        "\n",
        "**Note:** To make predictions on custom images, I've uploaded pictures of my own to a directory located at drive/My Drive/Data/dogs/ (as seen in the cell below). In order to make predictions on your own images, you will have to do something similar.\n"
      ],
      "metadata": {
        "id": "FFmJ_wpWilkl"
      }
    },
    {
      "cell_type": "markdown",
      "source": [
        "\n",
        "## What's next?\n",
        "\n",
        "Woah! What an effort. If you've made it this far, you've just gone end-to-end on a multi-class image classification problem.\n",
        "\n",
        "This is the same style of problem self-driving cars have, except with different data.\n",
        "\n",
        "If you're looking on where to go next, you've got plenty of options.\n",
        "\n",
        "You could try to improve the full model we trained in this notebook in a few ways (there are a fair few options). Since our early experiment (using only 1000 images) hinted at our model overfitting (the results on the training set far outperformed the results on the validation set), one goal going forward would be to try and prevent it.\n",
        "\n",
        "1.    [Trying another model from TensorFlow Hub](https://tfhub.dev/) - Perhaps a different model would perform better on our dataset. One option would be to experiment with a different pretrained model from TensorFlow Hub or look into the tf.keras.applications module.\n",
        "2.    [Data augmentation](https://bair.berkeley.edu/blog/2019/06/07/data_aug/) - Take the training images and manipulate (crop, resize) or distort them (flip, rotate) to create even more training data for the model to learn from. Check out the [TensorFlow images](https://www.tensorflow.org/api_docs/python/tf/image) documentation for a whole bunch of functions you can use on images. A great idea would be to try and replicate the techniques in this [example cat vs. dog image classification notebook](https://github.com/google/eng-edu/blob/master/ml/pc/exercises/image_classification_part2.ipynb) for our dog breeds problem.\n",
        "3.    [Fine-tuning](https://www.tensorflow.org/hub/tf2_saved_model#fine-tuning) - The model we used in this notebook was directly from TensorFlow Hub, we took what it had already learned from another dataset (ImageNet) and applied it to our own. Another option is to use what the model already knows and fine-tune this knowledge to our own dataset (pictures of dogs). This would mean all of the patterns within the model would be updated to be more specific to pictures of dogs rather than general images.\n",
        "\n",
        "If you're ever after more, one of the best ways to find out something is to search for something like:\n",
        "\n",
        "*    \"How to improve a TensorFlow 2.x image classification model?\"\n",
        "*    \"TensorFlow 2.x image classification best practices\"\n",
        "*    \"Transfer learning for image classification with TensorFlow 2.x\"\n",
        "\n",
        "And when you see an example you think might be beyond your reach (because it looks too complicated), remember, if in doubt, run the code. Try and reproduce what you see. This is the best way to get hands-on and build your own knowledge.\n",
        "\n",
        "No one starts out knowing how to do everything single thing. They just get better are knowing what to look for.\n"
      ],
      "metadata": {
        "id": "BwLO4dVTi0O0"
      }
    },
    {
      "cell_type": "code",
      "source": [
        ""
      ],
      "metadata": {
        "id": "Omh2pfCTiWkN"
      },
      "execution_count": null,
      "outputs": []
    }
  ]
}